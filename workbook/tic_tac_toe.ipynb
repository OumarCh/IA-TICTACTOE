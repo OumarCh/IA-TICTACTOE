{
  "nbformat": 4,
  "nbformat_minor": 0,
  "metadata": {
    "colab": {
      "name": "tic-tac-toe.ipynb",
      "provenance": [],
      "collapsed_sections": []
    },
    "kernelspec": {
      "display_name": "Python 3",
      "name": "python3"
    },
    "language_info": {
      "name": "python"
    }
  },
  "cells": [
    {
      "cell_type": "code",
      "metadata": {
        "id": "vI6sFzFQ3ods"
      },
      "source": [
        "from pprint import pprint\n",
        "import pandas as pd\n",
        "import sys, os\n",
        "import random\n",
        "import copy\n",
        "import time\n"
      ],
      "execution_count": 4,
      "outputs": []
    },
    {
      "cell_type": "code",
      "metadata": {
        "id": "CZ9kQgtX2yWW"
      },
      "source": [
        "HUMAN = 1\n",
        "COMP = -1"
      ],
      "execution_count": 5,
      "outputs": []
    },
    {
      "cell_type": "code",
      "metadata": {
        "id": "7D6bU-vd9KQm"
      },
      "source": [
        "def init():\n",
        "  grid = int(input(\"Chosir votre grille : 3(3x3), 5(5x5) ou 7(7x7)\"))\n",
        "  game = [[0 for j in range(grid)] for i in range(grid)]\n",
        "  return game, grid\n"
      ],
      "execution_count": 6,
      "outputs": []
    },
    {
      "cell_type": "code",
      "metadata": {
        "colab": {
          "base_uri": "https://localhost:8080/"
        },
        "id": "Uio09FeK3TBy",
        "outputId": "21263b68-66cd-483f-f283-a9653540137c"
      },
      "source": [
        "game, grid = init()"
      ],
      "execution_count": 7,
      "outputs": [
        {
          "output_type": "stream",
          "text": [
            "Chosir votre grille : 3(3x3), 5(5x5) ou 7(7x7)5\n"
          ],
          "name": "stdout"
        }
      ]
    },
    {
      "cell_type": "code",
      "metadata": {
        "id": "eB-JQeDcEzHB"
      },
      "source": [
        "def format_game(df):\n",
        "  df = df.replace([1],'X')\n",
        "  df = df.replace([-1],'O')\n",
        "  df = df.replace([0],'.')\n",
        "  \n",
        "  return df"
      ],
      "execution_count": 8,
      "outputs": []
    },
    {
      "cell_type": "code",
      "metadata": {
        "colab": {
          "base_uri": "https://localhost:8080/"
        },
        "id": "AsOOumai3S-v",
        "outputId": "92d07439-62a2-468c-b088-13be2df9b632"
      },
      "source": [
        "df = pd.DataFrame(game)\n",
        "print(format_game(df))"
      ],
      "execution_count": 9,
      "outputs": [
        {
          "output_type": "stream",
          "text": [
            "   0  1  2  3  4\n",
            "0  .  .  .  .  .\n",
            "1  .  .  .  .  .\n",
            "2  .  .  .  .  .\n",
            "3  .  .  .  .  .\n",
            "4  .  .  .  .  .\n"
          ],
          "name": "stdout"
        }
      ]
    },
    {
      "cell_type": "code",
      "metadata": {
        "id": "I9Vfybd6NSpL"
      },
      "source": [
        "def is_empty_box(game, x, y):\n",
        "  if game[x][y] == 1 or game[x][y] == -1:\n",
        "    return False\n",
        "  return True"
      ],
      "execution_count": 10,
      "outputs": []
    },
    {
      "cell_type": "code",
      "metadata": {
        "id": "nAw-v6sOWJ12"
      },
      "source": [
        "def is_fullfilled(game):\n",
        "  for item in game:\n",
        "    for elt in item:\n",
        "      if elt == 0:\n",
        "        return False\n",
        "  return True                "
      ],
      "execution_count": 11,
      "outputs": []
    },
    {
      "cell_type": "code",
      "metadata": {
        "id": "8ja87ie2DkRx"
      },
      "source": [
        "def check_diago_top(state, posx, posy):\n",
        "    \"\"\"\n",
        "    \"\"\"\n",
        "    x = posx\n",
        "    y = posy\n",
        "    \n",
        "        \n",
        "    try:\n",
        "        if x - (comboforWin-1) >= 0 and y + (comboforWin-1) and comboforWin==3:\n",
        "            diagoT =  [state[x][y], state[x-1][y+1], state[x-2][y+2]]\n",
        "        elif x - (comboforWin-1) >= 0 and y + (comboforWin-1) < grid and comboforWin==4:\n",
        "            diagoT =  [state[x][y], state[x-1][y+1], state[x-2][y+2],state[x-3][y+3] ]\n",
        "        return diagoT\n",
        "    except:\n",
        "        pass\n",
        "    \n",
        "    return "
      ],
      "execution_count": 12,
      "outputs": []
    },
    {
      "cell_type": "code",
      "metadata": {
        "id": "S-w1UJIdDkLK"
      },
      "source": [
        "def check_the_column(state, posx, posy):\n",
        "    \"\"\"\n",
        "    \"\"\"\n",
        "    column = []\n",
        "    if posx + (comboforWin-1) < grid:\n",
        "        for i in range(comboforWin):\n",
        "            column.append(state[posx][posy])\n",
        "            posx+=1\n",
        "        return column\n",
        "    return"
      ],
      "execution_count": 13,
      "outputs": []
    },
    {
      "cell_type": "code",
      "metadata": {
        "id": "3S2xwOHdDkOm"
      },
      "source": [
        "def check_diago_bottom(state, posx, posy):\n",
        "    \"\"\"\n",
        "    \"\"\"\n",
        "    x = posx\n",
        "    y = posy\n",
        "    try:\n",
        "        if comboforWin == 3:\n",
        "            diagoB =  [state[x][y], state[x+1][y+1], state[x+2][y+2]]\n",
        "        elif comboforWin == 4:\n",
        "            diagoB =  [state[x][y], state[x+1][y+1], state[x+2][y+2], state[x+3][y+3]]\n",
        "        return diagoB\n",
        "    except:\n",
        "        pass\n",
        "    \n",
        "    return "
      ],
      "execution_count": 14,
      "outputs": []
    },
    {
      "cell_type": "code",
      "metadata": {
        "id": "g_ILwM_BTgnH"
      },
      "source": [
        "def check_the_line(state, posx, posy):\n",
        "    \"\"\"\n",
        "    \"\"\"\n",
        "    line = []\n",
        "    if posy + (comboforWin-1) < grid:\n",
        "        for i in range(comboforWin):\n",
        "            line.append(state[posx][posy+i])\n",
        "        return line\n",
        "    return"
      ],
      "execution_count": 15,
      "outputs": []
    },
    {
      "cell_type": "code",
      "metadata": {
        "id": "TiAPOFDeTgiG"
      },
      "source": [
        "def genere_params_for_win(grilles):\n",
        "    if grilles == 3:\n",
        "        comboforWin = 3\n",
        "    else:\n",
        "        comboforWin = 4\n",
        "    return comboforWin"
      ],
      "execution_count": 16,
      "outputs": []
    },
    {
      "cell_type": "code",
      "metadata": {
        "id": "4bA8Of7PjoGw"
      },
      "source": [
        "comboforWin = genere_params_for_win(grid)"
      ],
      "execution_count": 17,
      "outputs": []
    },
    {
      "cell_type": "code",
      "metadata": {
        "id": "RviAvSsMDkUi"
      },
      "source": [
        "def create_win_possibility(state):\n",
        "    wins_state = []\n",
        "    for x in range(len(state)):\n",
        "        for y in range(len(state)):\n",
        "            line = check_the_line(state, x, y)\n",
        "            if line:\n",
        "                wins_state.append(line)\n",
        "    \n",
        "            column = check_the_column(state, x, y)\n",
        "            if column:\n",
        "                wins_state.append(column)\n",
        "            diago_bottom = check_diago_bottom(state, x, y)\n",
        "            if diago_bottom:\n",
        "                wins_state.append(diago_bottom)\n",
        "                \n",
        "            diago_top = check_diago_top(state, x, y)\n",
        "            if diago_top:\n",
        "                wins_state.append(diago_top)\n",
        "    return wins_state"
      ],
      "execution_count": 18,
      "outputs": []
    },
    {
      "cell_type": "code",
      "metadata": {
        "id": "_eTez4coDkXO"
      },
      "source": [
        "def wins(state, player):\n",
        "  \n",
        "    win_state = create_win_possibility(state)\n",
        "    if genere_params_for_win(grid) == 3 and [player, player, player] in win_state:\n",
        "        return True\n",
        "    elif genere_params_for_win(grid) == 4 and [player, player, player, player] in win_state:\n",
        "        return True\n",
        "    else:\n",
        "        return False"
      ],
      "execution_count": 19,
      "outputs": []
    },
    {
      "cell_type": "code",
      "metadata": {
        "id": "6f2vO1C31d8C"
      },
      "source": [
        "def random_row_col():\n",
        "  x = random.randint(0, grid-1)\n",
        "  y = random.randint(0, grid-1)\n",
        "\n",
        "  return x,y\n"
      ],
      "execution_count": 20,
      "outputs": []
    },
    {
      "cell_type": "code",
      "metadata": {
        "id": "BQ_Ei-cDDkdC"
      },
      "source": [
        "def play_with_random(game):\n",
        "  is_win = False\n",
        "  player = 1\n",
        "  count = 0\n",
        "  while is_win == False:\n",
        "    if count == 0:\n",
        "      print(pd.DataFrame(game))\n",
        "\n",
        "    if player == 1:\n",
        "      print('A mon tour')\n",
        "      x = int(input(\"Chosir l'abscisse\"))\n",
        "      y = int(input(\"Chosir l'ordonnée\"))\n",
        "\n",
        "    if player == -1:\n",
        "      print(\"Au tour de l'IA\")\n",
        "      x = random.randint(0, grid-1)\n",
        "      y = random.randint(0, grid-1)\n",
        "\n",
        "    if is_empty_box(game, x, y) == False:\n",
        "      while is_empty_box(game, x, y) == False:\n",
        "        if player == 1:\n",
        "          print(\"Case prise, veuillez réessayer\")\n",
        "          x = int(input(\"Chosir l'abscisse\"))\n",
        "          y = int(input(\"Chosir l'ordonnée\"))\n",
        "        if player == -1:\n",
        "          x = random.randint(0, grid-1)\n",
        "          y = random.randint(0, grid-1)\n",
        "\n",
        "    game[x][y] = player\n",
        "    show_ground = copy.deepcopy(game)\n",
        "    count = count + 1\n",
        "    \n",
        "    is_win = wins(game, player)\n",
        "    if count > 0:\n",
        "      df = pd.DataFrame(show_ground)\n",
        "      df = format_game(df)\n",
        "      print(df)\n",
        "\n",
        "    if is_win == True:\n",
        "      name = \"\"\n",
        "      if player == 1:\n",
        "        name = \"Humain\"\n",
        "      else:\n",
        "        name = \"Machine\"\n",
        "      print(\"{} a gagné\".format(name))\n",
        "    else:\n",
        "      if is_fullfilled(game) == True:\n",
        "        print(\"Match null\")\n",
        "\n",
        "    player = -player\n",
        "\n",
        "\n"
      ],
      "execution_count": 21,
      "outputs": []
    },
    {
      "cell_type": "code",
      "metadata": {
        "id": "peZFLVoHDkap"
      },
      "source": [
        "#play_with_random(game)"
      ],
      "execution_count": 22,
      "outputs": []
    },
    {
      "cell_type": "code",
      "metadata": {
        "id": "FpA84rjYx-zo"
      },
      "source": [
        "def evaluate(state):\n",
        "    \"\"\"\n",
        "    Perform heuristic evaluation from board.\n",
        "    Heuristic - allow the computer to discover the solution\n",
        "    of some problems by itself.\n",
        "    \"\"\"\n",
        "    if wins(state, COMP):\n",
        "        score = -1\n",
        "    elif wins(state, HUMAN):\n",
        "        score = 1\n",
        "    else:\n",
        "        score = 0\n",
        "\n",
        "    return score"
      ],
      "execution_count": 23,
      "outputs": []
    },
    {
      "cell_type": "code",
      "metadata": {
        "id": "sgd_5cs4yRBW"
      },
      "source": [
        "def empty_cells(state):\n",
        "    \"\"\"\n",
        "    Identifier à chaque étape du jeu les cellules qui reste à cocher\n",
        "    \"\"\"\n",
        "    cells = [] # it contains all empty cells\n",
        "\n",
        "    # Use enumerate for easy indexing\n",
        "    for i, row in enumerate(state):\n",
        "        for j, col in enumerate(row):\n",
        "            if state[i][j] == 0:\n",
        "                cells.append([i, j])\n",
        "\n",
        "    return cells"
      ],
      "execution_count": 24,
      "outputs": []
    },
    {
      "cell_type": "code",
      "metadata": {
        "id": "vAeH5kz5yY4V"
      },
      "source": [
        "def game_over(state):\n",
        "    \"\"\"Check game over condition\"\"\"\n",
        "    return wins(state, HUMAN) or wins(state, COMP)"
      ],
      "execution_count": 25,
      "outputs": []
    },
    {
      "cell_type": "code",
      "metadata": {
        "colab": {
          "base_uri": "https://localhost:8080/"
        },
        "id": "uKei9gohyCKU",
        "outputId": "5d84fdb4-d4f7-4d14-826a-a3de839ba582"
      },
      "source": [
        "evaluate(game)"
      ],
      "execution_count": 26,
      "outputs": [
        {
          "output_type": "execute_result",
          "data": {
            "text/plain": [
              "0"
            ]
          },
          "metadata": {
            "tags": []
          },
          "execution_count": 26
        }
      ]
    },
    {
      "cell_type": "code",
      "metadata": {
        "id": "LRbg8kGXyHlo"
      },
      "source": [
        "def minimax(state, depth, player):\n",
        "\n",
        "    from math import inf  \n",
        "    if player == COMP:\n",
        "        best = [-1, -1, inf] # inf/-inf are the initial score for the players\n",
        "    else:\n",
        "        best = [-1, -1, -inf]\n",
        "\n",
        "    if depth == 0 or game_over(state):\n",
        "        score = evaluate(state)\n",
        "        return [-1, -1, score]\n",
        "    \n",
        "    # Limit depth for board 5x5 & 7x7\n",
        "    if depth > 10:\n",
        "        depth = 2\n",
        "\n",
        "    for cell in empty_cells(state):\n",
        "        # Fill the empty cells with the player symbols\n",
        "        x, y = cell[0], cell[1]\n",
        "        state[x][y] = player\n",
        "        #print('\\ncell : ', cell)\n",
        "        #print('\\nsymbole : ', player)\n",
        "        score = minimax(state, depth-1, -player)\n",
        "        #print('\\nscore : ', score)\n",
        "        state[x][y] = 0\n",
        "        score[0], score[1] = x, y\n",
        "\n",
        "        if player == COMP:\n",
        "            if score[2] < best[2]:\n",
        "                best = score\n",
        "                #print('\\nbest : ', best)\n",
        "        else:\n",
        "            if score[2] > best[2]:\n",
        "                best = score\n",
        "                #print('\\nbest : ', best)\n",
        "\n",
        "    return best\n"
      ],
      "execution_count": 27,
      "outputs": []
    },
    {
      "cell_type": "code",
      "metadata": {
        "id": "uSMydXJkXZCZ"
      },
      "source": [
        "def ai_turn(state):\n",
        "    depth = len(empty_cells(state)) # The remaining of empty cells\n",
        "    row, col, score = minimax(state, depth, COMP) # the optimal move for computer\n",
        "    #state[row][col] = COMP\n",
        "\n",
        "    return row, col\n",
        "    #print(\"A.I Turn\")\n",
        "    #print(render(state))"
      ],
      "execution_count": 28,
      "outputs": []
    },
    {
      "cell_type": "code",
      "metadata": {
        "id": "oKk-XaVPYF18"
      },
      "source": [
        "def main(game):\n",
        "  is_end = False\n",
        "  player = 1\n",
        "  count = 0\n",
        "  while is_end == False:\n",
        "    if count == 0:\n",
        "      print(format_game(pd.DataFrame(game)))\n",
        "\n",
        "    if player == 1:\n",
        "      print('A mon tour')\n",
        "      x = int(input(\"Chosir ligne\"))\n",
        "      y = int(input(\"Chosir colonne\"))\n",
        "\n",
        "    if player == -1:\n",
        "      x, y = ai_turn(game)\n",
        "\n",
        "    if is_empty_box(game, x, y) == False:\n",
        "      while is_empty_box(game, x, y) == False:\n",
        "        if player == 1:\n",
        "          print(\"Case prise, veuillez réessayer\")\n",
        "          x = int(input(\"Chosir ligne\"))\n",
        "          y = int(input(\"Chosir colonne\"))\n",
        "        if player == -1:\n",
        "          print(\"Au tour de l'IA\")\n",
        "          x,y = ai_turn(game)\n",
        "          \n",
        "    game[x][y] = player\n",
        "    show_ground = copy.deepcopy(game)\n",
        "    count = count + 1\n",
        "    \n",
        "    is_win = wins(game, player)\n",
        "    if count > 0:\n",
        "      df = pd.DataFrame(show_ground)\n",
        "      df = format_game(df)\n",
        "      print(df)\n",
        "\n",
        "    if is_win == True:\n",
        "      is_end = True\n",
        "      name = \"\"\n",
        "      if player == 1:\n",
        "        name = \"Humain\"\n",
        "      else:\n",
        "        name = \"Machine\"\n",
        "      print(\"{} a gagné\".format(name))\n",
        "    else:\n",
        "      if len(empty_cells(game)) == 0:\n",
        "        print(\"Match null\")\n",
        "        is_end = True\n",
        "\n",
        "    player = -player"
      ],
      "execution_count": 29,
      "outputs": []
    },
    {
      "cell_type": "code",
      "metadata": {
        "id": "vdUG9-vA4SLA"
      },
      "source": [
        "def match(game, type_match):\n",
        "  # type_match\n",
        "  # 1 human vs random\n",
        "  # 2 human vs minimax\n",
        "  # 3 random vs minmax\n",
        "  is_end = False\n",
        "  player = 1\n",
        "  count = 0\n",
        "  while is_end == False:\n",
        "    if count == 0:\n",
        "      print(format_game(pd.DataFrame(game)))\n",
        "\n",
        "    if player == 1:\n",
        "      if type_match == 1 or type_match == 2:\n",
        "        print('A mon tour')\n",
        "        x = int(input(\"Chosir ligne\"))\n",
        "        y = int(input(\"Chosir colonne\"))\n",
        "      else:\n",
        "        print('Au tour du random')\n",
        "        x, y = random_row_col()  \n",
        "\n",
        "    if player == -1:\n",
        "        print(\"Au tour de l'IA\") \n",
        "        x, y = ai_turn(game)\n",
        "\n",
        "    if is_empty_box(game, x, y) == False:\n",
        "      while is_empty_box(game, x, y) == False:\n",
        "        if player == 1:\n",
        "          print(\"Case prise, veuillez réessayer\")\n",
        "          x, y = random_row_col()\n",
        "        if player == -1:\n",
        "          print(\"Au tour de l'IA minmax\")\n",
        "          x,y = ai_turn(game)\n",
        "          \n",
        "    game[x][y] = player\n",
        "    show_ground = copy.deepcopy(game)\n",
        "    count = count + 1\n",
        "    \n",
        "    is_win = wins(game, player)\n",
        "    if count > 0:\n",
        "      df = pd.DataFrame(show_ground)\n",
        "      df = format_game(df)\n",
        "      print(df)\n",
        "\n",
        "    if is_win == True:\n",
        "      is_end = True\n",
        "      name = \"\"\n",
        "      if player == 1:\n",
        "        if type_match == 1 or type_match == 2:\n",
        "          name = \"Humain\"\n",
        "        else:\n",
        "          name: \"Random\"\n",
        "      else:\n",
        "          name = \"IA\"\n",
        "      print(\"{} a gagné\".format(name))\n",
        "    else:\n",
        "      if len(empty_cells(game)) == 0:\n",
        "        print(\"Match null\")\n",
        "        is_end = True\n",
        "\n",
        "    player = -player\n",
        "    time.sleep(3)"
      ],
      "execution_count": 30,
      "outputs": []
    },
    {
      "cell_type": "code",
      "metadata": {
        "colab": {
          "base_uri": "https://localhost:8080/"
        },
        "id": "mxl_WdqiZK7z",
        "outputId": "234e7262-bc58-4f06-c0a6-2224f38d2ccd"
      },
      "source": [
        "if __name__ == '__main__':\n",
        "    #main(game)\n",
        "    #random_vs_minimax(game)\n",
        "    # type_match\n",
        "    # 1 human vs random\n",
        "    # 2 human vs minimax\n",
        "    # 3 random vs minmax\n",
        "    match(game, 3)"
      ],
      "execution_count": 31,
      "outputs": [
        {
          "output_type": "stream",
          "text": [
            "   0  1  2  3  4\n",
            "0  .  .  .  .  .\n",
            "1  .  .  .  .  .\n",
            "2  .  .  .  .  .\n",
            "3  .  .  .  .  .\n",
            "4  .  .  .  .  .\n",
            "Au tour du random\n",
            "   0  1  2  3  4\n",
            "0  .  .  .  .  .\n",
            "1  .  .  .  .  .\n",
            "2  .  .  .  .  .\n",
            "3  .  X  .  .  .\n",
            "4  .  .  .  .  .\n",
            "Au tour de l'IA\n",
            "   0  1  2  3  4\n",
            "0  O  .  .  .  .\n",
            "1  .  .  .  .  .\n",
            "2  .  .  .  .  .\n",
            "3  .  X  .  .  .\n",
            "4  .  .  .  .  .\n",
            "Au tour du random\n",
            "   0  1  2  3  4\n",
            "0  O  .  .  .  .\n",
            "1  .  .  .  .  .\n",
            "2  .  .  .  .  .\n",
            "3  .  X  .  .  X\n",
            "4  .  .  .  .  .\n",
            "Au tour de l'IA\n",
            "   0  1  2  3  4\n",
            "0  O  O  .  .  .\n",
            "1  .  .  .  .  .\n",
            "2  .  .  .  .  .\n",
            "3  .  X  .  .  X\n",
            "4  .  .  .  .  .\n",
            "Au tour du random\n",
            "   0  1  2  3  4\n",
            "0  O  O  X  .  .\n",
            "1  .  .  .  .  .\n",
            "2  .  .  .  .  .\n",
            "3  .  X  .  .  X\n",
            "4  .  .  .  .  .\n",
            "Au tour de l'IA\n",
            "   0  1  2  3  4\n",
            "0  O  O  X  O  .\n",
            "1  .  .  .  .  .\n",
            "2  .  .  .  .  .\n",
            "3  .  X  .  .  X\n",
            "4  .  .  .  .  .\n",
            "Au tour du random\n",
            "   0  1  2  3  4\n",
            "0  O  O  X  O  .\n",
            "1  .  .  .  .  .\n",
            "2  .  .  .  .  .\n",
            "3  .  X  .  .  X\n",
            "4  X  .  .  .  .\n",
            "Au tour de l'IA\n",
            "   0  1  2  3  4\n",
            "0  O  O  X  O  O\n",
            "1  .  .  .  .  .\n",
            "2  .  .  .  .  .\n",
            "3  .  X  .  .  X\n",
            "4  X  .  .  .  .\n",
            "Au tour du random\n",
            "   0  1  2  3  4\n",
            "0  O  O  X  O  O\n",
            "1  .  .  .  X  .\n",
            "2  .  .  .  .  .\n",
            "3  .  X  .  .  X\n",
            "4  X  .  .  .  .\n",
            "Au tour de l'IA\n",
            "   0  1  2  3  4\n",
            "0  O  O  X  O  O\n",
            "1  .  .  .  X  .\n",
            "2  .  .  O  .  .\n",
            "3  .  X  .  .  X\n",
            "4  X  .  .  .  .\n",
            "Au tour du random\n",
            "   0  1  2  3  4\n",
            "0  O  O  X  O  O\n",
            "1  .  .  .  X  .\n",
            "2  .  .  O  .  .\n",
            "3  .  X  .  .  X\n",
            "4  X  .  .  .  X\n",
            "Au tour de l'IA\n",
            "   0  1  2  3  4\n",
            "0  O  O  X  O  O\n",
            "1  O  .  .  X  .\n",
            "2  .  .  O  .  .\n",
            "3  .  X  .  .  X\n",
            "4  X  .  .  .  X\n",
            "Au tour du random\n",
            "Case prise, veuillez réessayer\n",
            "Case prise, veuillez réessayer\n",
            "   0  1  2  3  4\n",
            "0  O  O  X  O  O\n",
            "1  O  .  .  X  .\n",
            "2  X  .  O  .  .\n",
            "3  .  X  .  .  X\n",
            "4  X  .  .  .  X\n",
            "Au tour de l'IA\n",
            "   0  1  2  3  4\n",
            "0  O  O  X  O  O\n",
            "1  O  O  .  X  .\n",
            "2  X  .  O  .  .\n",
            "3  .  X  .  .  X\n",
            "4  X  .  .  .  X\n",
            "Au tour du random\n",
            "Case prise, veuillez réessayer\n",
            "   0  1  2  3  4\n",
            "0  O  O  X  O  O\n",
            "1  O  O  .  X  .\n",
            "2  X  .  O  .  .\n",
            "3  .  X  .  .  X\n",
            "4  X  X  .  .  X\n",
            "Au tour de l'IA\n",
            "   0  1  2  3  4\n",
            "0  O  O  X  O  O\n",
            "1  O  O  .  X  .\n",
            "2  X  .  O  .  .\n",
            "3  .  X  .  O  X\n",
            "4  X  X  .  .  X\n",
            "IA a gagné\n"
          ],
          "name": "stdout"
        }
      ]
    }
  ]
}